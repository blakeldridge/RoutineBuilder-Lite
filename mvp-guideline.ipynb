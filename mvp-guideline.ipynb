{
 "cells": [
  {
   "cell_type": "markdown",
   "id": "521cae6b",
   "metadata": {},
   "source": [
    "# MVP Guidelines - Routine Builder"
   ]
  },
  {
   "cell_type": "markdown",
   "id": "c2cf46a0",
   "metadata": {},
   "source": [
    "### Apparatus Selector\n",
    "- screen / page to choose which apparatus to build a routine for"
   ]
  },
  {
   "cell_type": "markdown",
   "id": "98e31008",
   "metadata": {},
   "source": [
    "### Routine Builder\n",
    "- pick and choose skills\n",
    "- 8 selectable skill slots\n",
    "- essentially the same as what has already been made"
   ]
  },
  {
   "cell_type": "markdown",
   "id": "5b26c611",
   "metadata": {},
   "source": [
    "### Difficulty Calculator\n",
    "- full difficulty calculation\n",
    "- execution\n",
    "- difficulty\n",
    "- bonus\n",
    "- penalties\n",
    "- requirements\n",
    "- flops and handstand dismount variations"
   ]
  },
  {
   "cell_type": "markdown",
   "id": "ec1a2dbd",
   "metadata": {},
   "source": [
    "### Basic Tips\n",
    "- tells you groups missing / partial requirements\n",
    "- missing requirements ie no double dismount"
   ]
  },
  {
   "cell_type": "markdown",
   "id": "6d278959",
   "metadata": {},
   "source": [
    "### Saving routines\n",
    "- simple save as pdf"
   ]
  },
  {
   "cell_type": "markdown",
   "id": "9735f0a0",
   "metadata": {},
   "source": [
    "## Step by Step goals\n",
    "\n",
    "1. build skeleton of the app, general pages and interation between them\n",
    "2. appartus selector, passes arguements into routine builder\n",
    "3. routine builder, skill selector + difficulty showing\n",
    "4. difficulty calculation\n",
    "5. popup for basic tips\n",
    "6. save routine to pdf\n",
    "7. add type to each of the skills"
   ]
  },
  {
   "cell_type": "markdown",
   "id": "8fa950ec",
   "metadata": {},
   "source": [
    "### Difficulty Calculator\n",
    "\n",
    "1. counts skills in groups\n",
    "2. calculates total value of skills\n",
    "3. finds connections / bonuses\n",
    "4. only allows max 4 of each group (5 on flights on hbar if connected)\n",
    "5. only allows max 2 of some types of skills\n",
    "6. calculates the execution based on skill number\n",
    "\n",
    "\n",
    "Current shortcomings : \n",
    "- hbar specific grip elements (cannot have more than 1 turn to different grips)\n",
    "- pbar healy from 1 bar\n",
    "- repeated same type of salto pbar\n",
    "- 5 flights 2 connected flights ? means connection to flight? or 2 are connected"
   ]
  },
  {
   "cell_type": "markdown",
   "id": "565ace98",
   "metadata": {},
   "source": [
    "### Routine Builder\n",
    "\n",
    "- each skill should display group and difficulty\n",
    "- each skill only allowed once\n",
    "- create flops\n",
    "- add turns to handstand dismounts\n",
    "- add connections\n",
    "- allow for filtering of skills\n",
    "\n",
    "\n",
    "REFACTOR REQUIRED : change the way skills are stored in routine along with the options, maybe store them as indexes of skills (but might have to get them from the skills list, not the filtered skills). This will allow connections to be easily added and any other alterations required"
   ]
  },
  {
   "cell_type": "markdown",
   "id": "40742a9b",
   "metadata": {},
   "source": [
    "### BUG REPORT\n",
    "\n",
    "Bug when putting group 4 (non-floor) skill in as it seems to be trying to set null values to invalid (should filter those out!)\n",
    "\n",
    "BUG, pommel 2 of the handstand dismounts already have turns, therefore should not go to the form\n",
    "\n",
    "BUG, when clearing routine, score does not reset"
   ]
  },
  {
   "cell_type": "markdown",
   "id": "8857485e",
   "metadata": {},
   "source": [
    "### Left to Do\n",
    "2. highlight uncounted skills (don't show values for instance)\n",
    "3. finish corrections + types for rings, pbar, hbar\n",
    "4. create different implementation for vault (averages etc)"
   ]
  },
  {
   "cell_type": "markdown",
   "id": "b494aefa",
   "metadata": {},
   "source": []
  }
 ],
 "metadata": {
  "language_info": {
   "name": "python"
  }
 },
 "nbformat": 4,
 "nbformat_minor": 5
}
