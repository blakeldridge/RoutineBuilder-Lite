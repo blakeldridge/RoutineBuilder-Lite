{
 "cells": [
  {
   "cell_type": "markdown",
   "id": "521cae6b",
   "metadata": {},
   "source": [
    "# MVP Guidelines - Routine Builder"
   ]
  },
  {
   "cell_type": "markdown",
   "id": "c2cf46a0",
   "metadata": {},
   "source": [
    "### Apparatus Selector\n",
    "- screen / page to choose which apparatus to build a routine for"
   ]
  },
  {
   "cell_type": "markdown",
   "id": "98e31008",
   "metadata": {},
   "source": [
    "### Routine Builder\n",
    "- pick and choose skills\n",
    "- 8 selectable skill slots\n",
    "- essentially the same as what has already been made"
   ]
  },
  {
   "cell_type": "markdown",
   "id": "5b26c611",
   "metadata": {},
   "source": [
    "### Difficulty Calculator\n",
    "- full difficulty calculation\n",
    "- execution\n",
    "- difficulty\n",
    "- bonus\n",
    "- penalties\n",
    "- requirements\n",
    "- flops and handstand dismount variations"
   ]
  },
  {
   "cell_type": "markdown",
   "id": "ec1a2dbd",
   "metadata": {},
   "source": [
    "### Basic Tips\n",
    "- tells you groups missing / partial requirements\n",
    "- missing requirements ie no double dismount"
   ]
  },
  {
   "cell_type": "markdown",
   "id": "6d278959",
   "metadata": {},
   "source": [
    "### Saving routines\n",
    "- simple save as pdf"
   ]
  },
  {
   "cell_type": "markdown",
   "id": "9735f0a0",
   "metadata": {},
   "source": [
    "## Step by Step goals\n",
    "\n",
    "1. build skeleton of the app, general pages and interation between them\n",
    "2. appartus selector, passes arguements into routine builder\n",
    "3. routine builder, skill selector + difficulty showing\n",
    "4. difficulty calculation\n",
    "5. popup for basic tips\n",
    "6. save routine to pdf\n",
    "7. add type to each of the skills"
   ]
  },
  {
   "cell_type": "markdown",
   "id": "8fa950ec",
   "metadata": {},
   "source": [
    "### Difficulty Calculator\n",
    "\n",
    "1. counts skills in groups\n",
    "2. calculates total value of skills\n",
    "3. finds connections / bonuses\n",
    "4. only allows max 4 of each group (5 on flights on hbar if connected)\n",
    "5. only allows max 2 of some types of skills\n",
    "6. calculates the execution based on skill number\n",
    "\n",
    "\n",
    "Current shortcomings : \n",
    "- hbar specific grip elements (cannot have more than 1 turn to different grips)\n",
    "- pbar healy from 1 bar\n",
    "- 5 flights 2 connected flights ? means connection to flight? or 2 are connected"
   ]
  },
  {
   "cell_type": "markdown",
   "id": "565ace98",
   "metadata": {},
   "source": [
    "### Routine Builder\n",
    "\n",
    "- each skill should display group and difficulty\n",
    "- each skill only allowed once\n",
    "- create flops\n",
    "- add turns to handstand dismounts\n",
    "- add connections\n",
    "- allow for filtering of skills\n",
    "\n",
    "\n",
    "**FIXED** REFACTOR REQUIRED : change the way skills are stored in routine along with the options, maybe store them as indexes of skills (but might have to get them from the skills list, not the filtered skills). This will allow connections to be easily added and any other alterations required"
   ]
  },
  {
   "cell_type": "markdown",
   "id": "7f5c79db",
   "metadata": {},
   "source": [
    "### STYLING PLAN\n",
    "\n",
    "- Move return button to top left corner\n",
    "- center clear routine + flop button (keep download to the right)\n",
    "- make selects have consistent sizing regardless of filters\n",
    "- have groups and difficulties always be same size regardless of what is in them\n",
    "- connect and remove buttons made smaller (maybe just icon) to fit better\n",
    "- routine results rounded to 2 dp\n",
    "- routine results made to fit on the page (so could grid them up a little)\n",
    "- routine corrections, still a list (maybe have as an overlay to keep on one page)\n",
    "- apparatus selector buttons large and in a 3x2 grid\n",
    "- filters could be spaced apart + larger in size\n",
    "- increase text size overall?\n",
    "- add apparatus icons?\n",
    "- PDF has to have larger apparatus title, add apparatus icon, make skills / groups /. difficulties into a grid / table to be more structure. Have page sized well to fits just the content, show start value in large, with breakdown just below\n",
    "- adjust to fit all screen sizes"
   ]
  },
  {
   "cell_type": "markdown",
   "id": "40742a9b",
   "metadata": {},
   "source": [
    "### BUG REPORT\n",
    "\n",
    "**FIXED** Bug when putting group 4 (non-floor) skill in as it seems to be trying to set null values to invalid (should filter those out!)\n",
    "\n",
    "BUG, pommel 2 of the handstand dismounts already have turns, therefore should not go to the form\n",
    "\n",
    "**FIXED** BUG, when clearing routine, score does not reset\n",
    "\n",
    "BUG, some skills have 2 versions, on rings that could mean 2 different ending positions. Also should I allow all the different? just set as same id?\n",
    "\n",
    "**FIXED** BUG, invalid skills messing up vault\n",
    "\n",
    "**FIXED** BUG, dismount form adding broken, something with null values\n",
    "\n",
    "**FIXED** BUG, can add flops that don't count\n",
    "\n",
    "**FIXED** BUG, able to download when no skills are there\n",
    "\n",
    "BUG, handstand turn form no longer shows up"
   ]
  },
  {
   "cell_type": "markdown",
   "id": "23a9dfe1",
   "metadata": {},
   "source": [
    "### FEEDBACK REPORT\n",
    "\n",
    "**FIXED** Should add lack of skills (ie need 6 skills to gain 10 marks execution) to the corrections.\n",
    "\n",
    "**FIXED** Add execution to the routine result\n",
    "\n",
    "**FIXED** pdf should potentially have execution \n",
    "\n",
    "pdf should have apparatus icon on it\n",
    "\n",
    "**FIXED** Change dropdowns to skill list overlay with all the filters there instead\n",
    "\n",
    "**FIXED** adding flops not obvious, should maybe show visibly that a flop has been added\n",
    "\n",
    "full names of skills for flops?\n",
    "\n",
    "**FIXED** search bar button pointless at the moment\n",
    "\n",
    "**HALF FIXED** result being out of screen not ideal (should be shown)\n",
    "\n",
    "Adding skill images\n",
    "\n",
    "should potentially explain the rules a little (ie say that you can have max 4 skills per group)\n",
    "\n",
    "need to change all groups to their roman numerals (maybe explain what each group is too)\n",
    "\n",
    "need to change values to A B C ...\n",
    "\n",
    "Make namings consistent ie fwd should be forward, spaces etc\n",
    "\n",
    "**FIXED** Make sure all values are to 1 dp\n",
    "\n",
    "connections should only be shown (hbar) when before or after is a release"
   ]
  },
  {
   "cell_type": "markdown",
   "id": "f58f4d34",
   "metadata": {},
   "source": [
    "\n"
   ]
  }
 ],
 "metadata": {
  "kernelspec": {
   "display_name": "Python 3",
   "language": "python",
   "name": "python3"
  },
  "language_info": {
   "name": "python",
   "version": "3.11.5"
  }
 },
 "nbformat": 4,
 "nbformat_minor": 5
}
