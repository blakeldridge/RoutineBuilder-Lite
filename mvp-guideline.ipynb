{
 "cells": [
  {
   "cell_type": "markdown",
   "id": "521cae6b",
   "metadata": {},
   "source": [
    "# MVP Guidelines - Routine Builder"
   ]
  },
  {
   "cell_type": "markdown",
   "id": "c2cf46a0",
   "metadata": {},
   "source": [
    "### Apparatus Selector\n",
    "- screen / page to choose which apparatus to build a routine for"
   ]
  },
  {
   "cell_type": "markdown",
   "id": "98e31008",
   "metadata": {},
   "source": [
    "### Routine Builder\n",
    "- pick and choose skills\n",
    "- 8 selectable skill slots\n",
    "- essentially the same as what has already been made"
   ]
  },
  {
   "cell_type": "markdown",
   "id": "5b26c611",
   "metadata": {},
   "source": [
    "### Difficulty Calculator\n",
    "- full difficulty calculation\n",
    "- execution\n",
    "- difficulty\n",
    "- bonus\n",
    "- penalties\n",
    "- requirements\n",
    "- flops and handstand dismount variations"
   ]
  },
  {
   "cell_type": "markdown",
   "id": "ec1a2dbd",
   "metadata": {},
   "source": [
    "### Basic Tips\n",
    "- tells you groups missing / partial requirements\n",
    "- missing requirements ie no double dismount"
   ]
  },
  {
   "cell_type": "markdown",
   "id": "6d278959",
   "metadata": {},
   "source": [
    "### Saving routines\n",
    "- simple save as pdf"
   ]
  },
  {
   "cell_type": "markdown",
   "id": "9735f0a0",
   "metadata": {},
   "source": [
    "## Step by Step goals\n",
    "\n",
    "1. build skeleton of the app, general pages and interation between them\n",
    "2. appartus selector, passes arguements into routine builder\n",
    "3. routine builder, skill selector + difficulty showing\n",
    "4. difficulty calculation\n",
    "5. popup for basic tips\n",
    "6. save routine to pdf"
   ]
  },
  {
   "cell_type": "markdown",
   "id": "8fa950ec",
   "metadata": {},
   "source": []
  }
 ],
 "metadata": {
  "language_info": {
   "name": "python"
  }
 },
 "nbformat": 4,
 "nbformat_minor": 5
}
